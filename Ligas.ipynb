{
  "nbformat": 4,
  "nbformat_minor": 0,
  "metadata": {
    "colab": {
      "name": "Ligas",
      "provenance": [],
      "collapsed_sections": [],
      "include_colab_link": true
    },
    "kernelspec": {
      "name": "python3",
      "display_name": "Python 3"
    }
  },
  "cells": [
    {
      "cell_type": "markdown",
      "metadata": {
        "id": "view-in-github",
        "colab_type": "text"
      },
      "source": [
        "<a href=\"https://colab.research.google.com/github/vsmmart/site-shows-pweb/blob/main/Ligas.ipynb\" target=\"_parent\"><img src=\"https://colab.research.google.com/assets/colab-badge.svg\" alt=\"Open In Colab\"/></a>"
      ]
    },
    {
      "cell_type": "markdown",
      "metadata": {
        "id": "OUc22k4shZlq"
      },
      "source": [
        "#Problema: Ligas metálicas\n",
        "\n",
        "####Uma metalúrgica produz dois tipos de ligas metálicas. Cada liga é composta de proporções diferentes de cobre, zinco e chumbo, os quais estão disponíveis em quantidades limitadas em estoque. Deseja-se determinar quanto produzir de cada liga, de modo a maximizar a receita bruta, satisfazendo as seguintes composições das ligas e a disponibilidade de matéria-prima em estoque:\n",
        "\n",
        "\n",
        "\n",
        "\n",
        "<style type=\"text/css\">\n",
        ".tg  {border-collapse:collapse;border-spacing:0;border-color:#aabcfe;}\n",
        ".tg td{font-family:Arial, sans-serif;font-size:14px;padding:10px 5px;border-style:solid;border-width:1px;overflow:hidden;word-break:normal;border-color:#aabcfe;color:#669;background-color:#e8edff;}\n",
        ".tg th{font-family:Arial, sans-serif;font-size:14px;font-weight:normal;padding:10px 5px;border-style:solid;border-width:1px;overflow:hidden;word-break:normal;border-color:#aabcfe;color:#039;background-color:#b9c9fe;}\n",
        ".tg .tg-koh6{font-size:36px;border-color:inherit;text-align:left;vertical-align:top}\n",
        "</style>\n",
        "<table class=\"tg\">\n",
        "  <tr>\n",
        "    <th class=\"tg-koh6\">Matéria-prima</th>\n",
        "    <th class=\"tg-koh6\">Liga 1</th>\n",
        "    <th class=\"tg-koh6\">Liga 2</th>\n",
        "    <th class=\"tg-koh6\">Estoque</th>\n",
        "  </tr>\n",
        "  <tr>\n",
        "    <td class=\"tg-koh6\">Cobre</td>\n",
        "    <td class=\"tg-koh6\">50%</td>\n",
        "    <td class=\"tg-koh6\">30%</td>\n",
        "    <td class=\"tg-koh6\">3 ton</td>\n",
        "  </tr>\n",
        "  <tr>\n",
        "    <td class=\"tg-koh6\">Zinco</td>\n",
        "    <td class=\"tg-koh6\">10%</td>\n",
        "    <td class=\"tg-koh6\">20%</td>\n",
        "    <td class=\"tg-koh6\">1 ton</td>\n",
        "  </tr>\n",
        "  <tr>\n",
        "    <td class=\"tg-koh6\">Chumbo</td>\n",
        "    <td class=\"tg-koh6\">40%</td>\n",
        "    <td class=\"tg-koh6\">50%</td>\n",
        "    <td class=\"tg-koh6\">3 ton</td>\n",
        "  </tr>\n",
        "  <tr>\n",
        "    <td class=\"tg-koh6\">Preço de venda (R$/ton)</td>\n",
        "    <td class=\"tg-koh6\">3 mil</td>\n",
        "    <td class=\"tg-koh6\">2 mil</td>\n",
        "    <td class=\"tg-koh6\"></td>\n",
        "  </tr>\n",
        "</table>\n",
        "\n",
        "<br> </br>\n",
        "\n",
        "##Modelo explícito:\n",
        "\n",
        "\\begin{align*}\n",
        "\\hbox{max} \\ \\ &3x_1+2x_2\\\\\n",
        "\\hbox{s.a} \\ \\ &0,5x_1+0,3x_2\\leq 3\\\\\n",
        "&0,1x_1+0,2x_2\\leq 1\\\\\n",
        "&0,4x_1+0,5x_2\\leq 3\\\\\n",
        "& \\ x_1,x_2\\geq 0\n",
        "\\end{align*}\n",
        "<br> </br>\n",
        "\n",
        "##Modelo algébrico (genérico):\n",
        "\n",
        "\n",
        ">$n$ ligas\n",
        "\n",
        ">$m$ matérias-primas\n",
        "\n",
        "###Variáveis\n",
        "\n",
        ">$x_i$ : quantidade em toneladas a ser produzida da liga $i$, com   $i=1,\\ldots,n$\n",
        "\n",
        "###Parâmetros\n",
        "\n",
        "> $R_i$ : receita por tonelada da liga $i$, com   $i=1,\\ldots,n$\n",
        "\n",
        ">$D_j$ : disponibilidade da matéria-prima $j$, com   $j=1,\\ldots,m$\n",
        "\n",
        ">$P_{ji}$ :  percentual da matéria-prima $j$ presente na liga $i$, com   $i=1,\\ldots,n$ e $j=1,\\ldots,m$\n",
        "\n",
        "\n",
        "\n",
        "\n",
        "\n",
        "\\begin{align*}\n",
        "\\hbox{max} \\ \\ &\\sum_{i=1}^nR_ix_i& &\\\\\n",
        "\\hbox{s.a} \\ \\ &\\sum_{i=1}^nP_{ji}x_i\\leq D_j& &j=1,\\ldots,m\\\\\n",
        "& \\ x_i\\geq 0& &i=1,\\ldots,n\n",
        "\\end{align*}\n",
        "\n"
      ]
    },
    {
      "cell_type": "code",
      "metadata": {
        "id": "JzNHbD_c-Xij"
      },
      "source": [
        "# Instalando a biblioteca PyMathProg\n",
        "!pip install pymprog"
      ],
      "execution_count": null,
      "outputs": []
    },
    {
      "cell_type": "code",
      "metadata": {
        "id": "m1s8Hmm8ZnjG"
      },
      "source": [
        "from pymprog import*\n",
        "\n"
      ],
      "execution_count": null,
      "outputs": []
    }
  ]
}